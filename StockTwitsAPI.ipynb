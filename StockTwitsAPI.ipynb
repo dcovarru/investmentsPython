{
  "nbformat": 4,
  "nbformat_minor": 0,
  "metadata": {
    "colab": {
      "name": "StockTwitsAPI.ipynb",
      "provenance": [],
      "toc_visible": true,
      "authorship_tag": "ABX9TyMNarumJtXVJkOreCM57Tw1",
      "include_colab_link": true
    },
    "kernelspec": {
      "name": "python3",
      "display_name": "Python 3"
    }
  },
  "cells": [
    {
      "cell_type": "markdown",
      "metadata": {
        "id": "view-in-github",
        "colab_type": "text"
      },
      "source": [
        "<a href=\"https://colab.research.google.com/github/dcovarru/investmentsPython/blob/master/StockTwitsAPI.ipynb\" target=\"_parent\"><img src=\"https://colab.research.google.com/assets/colab-badge.svg\" alt=\"Open In Colab\"/></a>"
      ]
    },
    {
      "cell_type": "markdown",
      "metadata": {
        "id": "P9vhUPH4Si8n",
        "colab_type": "text"
      },
      "source": [
        "# An experiment to ETL StockTwit Data\n",
        "## This notebook will be used to test StockTwit Connectivity\n"
      ]
    },
    {
      "cell_type": "code",
      "metadata": {
        "id": "tocyzXd8Smpt",
        "colab_type": "code",
        "colab": {}
      },
      "source": [
        "# Import necessary packages #\n"
      ],
      "execution_count": 0,
      "outputs": []
    },
    {
      "cell_type": "code",
      "metadata": {
        "id": "p9vGsbpyTv1W",
        "colab_type": "code",
        "colab": {}
      },
      "source": [
        "# Example of StockTwits API #\n",
        "# https://api.stocktwits.com/api/2/streams/symbol/AGRX.json #"
      ],
      "execution_count": 0,
      "outputs": []
    }
  ]
}