{
  "nbformat": 4,
  "nbformat_minor": 0,
  "metadata": {
    "kernelspec": {
      "display_name": "Python 3",
      "language": "python",
      "name": "python3"
    },
    "language_info": {
      "codemirror_mode": {
        "name": "ipython",
        "version": 3
      },
      "file_extension": ".py",
      "mimetype": "text/x-python",
      "name": "python",
      "nbconvert_exporter": "python",
      "pygments_lexer": "ipython3",
      "version": "3.7.3"
    },
    "colab": {
      "name": "investments.ipynb",
      "provenance": [],
      "toc_visible": true,
      "include_colab_link": true
    }
  },
  "cells": [
    {
      "cell_type": "markdown",
      "metadata": {
        "id": "view-in-github",
        "colab_type": "text"
      },
      "source": [
        "<a href=\"https://colab.research.google.com/github/dcovarru/investmentsPython/blob/master/investments.ipynb\" target=\"_parent\"><img src=\"https://colab.research.google.com/assets/colab-badge.svg\" alt=\"Open In Colab\"/></a>"
      ]
    },
    {
      "cell_type": "markdown",
      "metadata": {
        "id": "Opx9SlIcmNmV",
        "colab_type": "text"
      },
      "source": [
        "# Generation of Investment Data with Python\n",
        "## Author: Daniel Covarrubias"
      ]
    },
    {
      "cell_type": "markdown",
      "metadata": {
        "id": "W-GKfziGmUGh",
        "colab_type": "text"
      },
      "source": [
        "# Introduction\n",
        "\n",
        "# This one is for the Raza\n"
      ]
    },
    {
      "cell_type": "code",
      "metadata": {
        "id": "Wp7Hgy8TmNmX",
        "colab_type": "code",
        "colab": {}
      },
      "source": [
        "########################\n",
        "#\n",
        "# 1) Identify Symbols form API dumbstock\n",
        "# 2) Pull daily Price Data for last 365 days via Yahoo\n",
        "# 3) Identify Metric(s)\n",
        "# 4) Identify correlations/significance\n",
        "# 5) Build Historical Model on Training Set\n",
        "# 6) Test Model on recent data\n",
        "# 7) Use TF or sklearn\n",
        "# 8) Build App on AWS or GCP to monitor realtime data\n",
        "#\n",
        "########################"
      ],
      "execution_count": 0,
      "outputs": []
    },
    {
      "cell_type": "code",
      "metadata": {
        "id": "oEilZVjqmNmZ",
        "colab_type": "code",
        "outputId": "97b6b8cf-ea8d-4b37-ac81-7597cb6ca0e5",
        "colab": {
          "base_uri": "https://localhost:8080/",
          "height": 333
        }
      },
      "source": [
        "########################\n",
        "# Load packages \n",
        "########################\n",
        "\n",
        "import pandas as pd\n",
        "import datetime\n",
        "import numpy as np\n",
        "import pandas_datareader\n",
        "import pandas_datareader.data as web\n",
        "from pandas_datareader.data import get_quote_yahoo\n",
        "import matplotlib.pyplot as plt\n",
        "from pandas import Series, DataFrame\n",
        "from pandas.plotting import scatter_matrix\n",
        "import os\n",
        "import re\n"
      ],
      "execution_count": 0,
      "outputs": [
        {
          "output_type": "error",
          "ename": "ModuleNotFoundError",
          "evalue": "ignored",
          "traceback": [
            "\u001b[0;31m---------------------------------------------------------------------------\u001b[0m",
            "\u001b[0;31mModuleNotFoundError\u001b[0m                       Traceback (most recent call last)",
            "\u001b[0;32m<ipython-input-9-ac9a540ef3cd>\u001b[0m in \u001b[0;36m<module>\u001b[0;34m()\u001b[0m\n\u001b[1;32m     11\u001b[0m \u001b[0;32mimport\u001b[0m \u001b[0mos\u001b[0m\u001b[0;34m\u001b[0m\u001b[0;34m\u001b[0m\u001b[0m\n\u001b[1;32m     12\u001b[0m \u001b[0;32mimport\u001b[0m \u001b[0mre\u001b[0m\u001b[0;34m\u001b[0m\u001b[0;34m\u001b[0m\u001b[0m\n\u001b[0;32m---> 13\u001b[0;31m \u001b[0;32mimport\u001b[0m \u001b[0myfinance\u001b[0m \u001b[0;32mas\u001b[0m \u001b[0myf\u001b[0m\u001b[0;34m\u001b[0m\u001b[0;34m\u001b[0m\u001b[0m\n\u001b[0m",
            "\u001b[0;31mModuleNotFoundError\u001b[0m: No module named 'yfinance'",
            "",
            "\u001b[0;31m---------------------------------------------------------------------------\u001b[0;32m\nNOTE: If your import is failing due to a missing package, you can\nmanually install dependencies using either !pip or !apt.\n\nTo view examples of installing some common dependencies, click the\n\"Open Examples\" button below.\n\u001b[0;31m---------------------------------------------------------------------------\u001b[0m\n"
          ]
        }
      ]
    },
    {
      "cell_type": "code",
      "metadata": {
        "id": "T6Ehi4-kmNmc",
        "colab_type": "code",
        "colab": {}
      },
      "source": [
        "########################\n",
        "# Get Ticker Data \n",
        "########################\n",
        "\n",
        "investData = pd.read_csv('https://dumbstockapi.com/stock?format=csv&countries=US')"
      ],
      "execution_count": 0,
      "outputs": []
    },
    {
      "cell_type": "code",
      "metadata": {
        "id": "D0yG5su1mNme",
        "colab_type": "code",
        "outputId": "47abb794-c5d8-4af2-c0ce-8815dec422fa",
        "colab": {
          "base_uri": "https://localhost:8080/",
          "height": 34
        }
      },
      "source": [
        "pd.DataFrame(investData).shape\n",
        "investData.shape\n",
        "investDataSubset = investData.ticker.loc[33:100]\n",
        "# list(investDataSubset)\n",
        "investDataSubsetDF = pd.DataFrame(investDataSubset)\n",
        "# str(investDataSubset.loc[0])\n",
        "investDataSubsetDF.columns.str.strip()\n",
        "# investDataSubsetDF"
      ],
      "execution_count": 0,
      "outputs": [
        {
          "output_type": "execute_result",
          "data": {
            "text/plain": [
              "Index(['ticker'], dtype='object')"
            ]
          },
          "metadata": {
            "tags": []
          },
          "execution_count": 4
        }
      ]
    },
    {
      "cell_type": "code",
      "metadata": {
        "id": "4tWkHL2P2TPz",
        "colab_type": "code",
        "colab": {}
      },
      "source": [
        "#Python program to check if a string contains\n",
        "#any special characters or not\n",
        "# import required package\n",
        "import re \n",
        "  \n",
        "# Function checks if the input string(test)\n",
        "# contains any special character or not\n",
        "def check_splcharacter(test): \n",
        "  \n",
        "    # Make an RE character set and pass  \n",
        "    # this as an argument in compile function\n",
        " \n",
        "    string_check= re.compile('[@_!#$%^&*()<>?/\\|}{~:]') \n",
        "      \n",
        "    # Pass the string in search function  \n",
        "    # of RE object (string_check).\n",
        "    # print(test.ticker) \n",
        "    # NOTE: the below code relies on extracting text from the ticker attribute\n",
        "    if(string_check.search(test.ticker) == None): \n",
        "        #print(str(test))\n",
        "        return(\"noSC\")\n",
        "          \n",
        "    else:\n",
        "        #print(str(test)) \n",
        "        return(\"SC\") \n"
      ],
      "execution_count": 0,
      "outputs": []
    },
    {
      "cell_type": "code",
      "metadata": {
        "id": "4lLTW0sp2Zek",
        "colab_type": "code",
        "outputId": "0c665169-00c6-413e-fda7-12a0782eff02",
        "colab": {
          "base_uri": "https://localhost:8080/",
          "height": 419
        }
      },
      "source": [
        "investDataSubsetDF['SCFlag'] = investDataSubsetDF.apply(check_splcharacter, axis = 1)\n",
        "# investDataSubsetDF.apply(check_splcharacter, axis = 1)\n",
        "## check_splcharacter(investDataSubset[33])\n",
        "investDataSubsetDF"
      ],
      "execution_count": 0,
      "outputs": [
        {
          "output_type": "execute_result",
          "data": {
            "text/html": [
              "<div>\n",
              "<style scoped>\n",
              "    .dataframe tbody tr th:only-of-type {\n",
              "        vertical-align: middle;\n",
              "    }\n",
              "\n",
              "    .dataframe tbody tr th {\n",
              "        vertical-align: top;\n",
              "    }\n",
              "\n",
              "    .dataframe thead th {\n",
              "        text-align: right;\n",
              "    }\n",
              "</style>\n",
              "<table border=\"1\" class=\"dataframe\">\n",
              "  <thead>\n",
              "    <tr style=\"text-align: right;\">\n",
              "      <th></th>\n",
              "      <th>ticker</th>\n",
              "      <th>SCFlag</th>\n",
              "    </tr>\n",
              "  </thead>\n",
              "  <tbody>\n",
              "    <tr>\n",
              "      <th>33</th>\n",
              "      <td>ABR^B</td>\n",
              "      <td>SC</td>\n",
              "    </tr>\n",
              "    <tr>\n",
              "      <th>34</th>\n",
              "      <td>ABR^C</td>\n",
              "      <td>SC</td>\n",
              "    </tr>\n",
              "    <tr>\n",
              "      <th>35</th>\n",
              "      <td>ABT</td>\n",
              "      <td>noSC</td>\n",
              "    </tr>\n",
              "    <tr>\n",
              "      <th>36</th>\n",
              "      <td>ABTX</td>\n",
              "      <td>noSC</td>\n",
              "    </tr>\n",
              "    <tr>\n",
              "      <th>37</th>\n",
              "      <td>ABUS</td>\n",
              "      <td>noSC</td>\n",
              "    </tr>\n",
              "    <tr>\n",
              "      <th>...</th>\n",
              "      <td>...</td>\n",
              "      <td>...</td>\n",
              "    </tr>\n",
              "    <tr>\n",
              "      <th>96</th>\n",
              "      <td>ADRD</td>\n",
              "      <td>noSC</td>\n",
              "    </tr>\n",
              "    <tr>\n",
              "      <th>97</th>\n",
              "      <td>ADRE</td>\n",
              "      <td>noSC</td>\n",
              "    </tr>\n",
              "    <tr>\n",
              "      <th>98</th>\n",
              "      <td>ADRO</td>\n",
              "      <td>noSC</td>\n",
              "    </tr>\n",
              "    <tr>\n",
              "      <th>99</th>\n",
              "      <td>ADRU</td>\n",
              "      <td>noSC</td>\n",
              "    </tr>\n",
              "    <tr>\n",
              "      <th>100</th>\n",
              "      <td>ADS</td>\n",
              "      <td>noSC</td>\n",
              "    </tr>\n",
              "  </tbody>\n",
              "</table>\n",
              "<p>68 rows × 2 columns</p>\n",
              "</div>"
            ],
            "text/plain": [
              "    ticker SCFlag\n",
              "33   ABR^B     SC\n",
              "34   ABR^C     SC\n",
              "35     ABT   noSC\n",
              "36    ABTX   noSC\n",
              "37    ABUS   noSC\n",
              "..     ...    ...\n",
              "96    ADRD   noSC\n",
              "97    ADRE   noSC\n",
              "98    ADRO   noSC\n",
              "99    ADRU   noSC\n",
              "100    ADS   noSC\n",
              "\n",
              "[68 rows x 2 columns]"
            ]
          },
          "metadata": {
            "tags": []
          },
          "execution_count": 6
        }
      ]
    },
    {
      "cell_type": "code",
      "metadata": {
        "id": "hDJZojwZZW1n",
        "colab_type": "code",
        "outputId": "8c088efb-d099-4fba-ba38-355ebfc2be23",
        "colab": {
          "base_uri": "https://localhost:8080/",
          "height": 374
        }
      },
      "source": [
        "######################################\n",
        "# need to address instances where ticker does not exist \n",
        "######################################\n",
        "\n",
        "# get_data_yahoo() now treats 'null' strings as missing values (GH342)\n",
        "\n",
        "start = datetime.datetime(2018, 5, 1)\n",
        "end = datetime.datetime(2018, 5, 30)\n",
        "\n",
        "def get_data(ticker):\n",
        "    try:\n",
        "        # df = pandas_datareader.data.DataReader('%s' % (ticker), 'morningstar', start, end, retry_count=0)\n",
        "        df = web.get_quote_av(ticker, api_key = os.getenv('ALPHAVANTAGE_API_KEY'))\n",
        "        print(df.tail(5))\n",
        "    except ValueError:\n",
        "        print('Ticker Symbol %s is not available!' % (ticker))\n",
        "\n",
        "# get_data('TSLA') #valid Symbol\n",
        "get_data('yyfy') #not a valid Symbol\n",
        "# get_data('AAPL') #valid Symbol\n",
        "# get_data('QQQQ') #not a valid Symbol"
      ],
      "execution_count": 0,
      "outputs": [
        {
          "output_type": "error",
          "ename": "KeyError",
          "evalue": "ignored",
          "traceback": [
            "\u001b[0;31m---------------------------------------------------------------------------\u001b[0m",
            "\u001b[0;31mKeyError\u001b[0m                                  Traceback (most recent call last)",
            "\u001b[0;32m<ipython-input-27-65a370d6ab9e>\u001b[0m in \u001b[0;36m<module>\u001b[0;34m()\u001b[0m\n\u001b[1;32m     12\u001b[0m \u001b[0;34m\u001b[0m\u001b[0m\n\u001b[1;32m     13\u001b[0m \u001b[0;31m# get_data('TSLA') #valid Symbol\u001b[0m\u001b[0;34m\u001b[0m\u001b[0;34m\u001b[0m\u001b[0;34m\u001b[0m\u001b[0m\n\u001b[0;32m---> 14\u001b[0;31m \u001b[0mget_data\u001b[0m\u001b[0;34m(\u001b[0m\u001b[0;34m'yyfy'\u001b[0m\u001b[0;34m)\u001b[0m \u001b[0;31m#not a valid Symbol\u001b[0m\u001b[0;34m\u001b[0m\u001b[0;34m\u001b[0m\u001b[0m\n\u001b[0m\u001b[1;32m     15\u001b[0m \u001b[0;31m# get_data('AAPL') #valid Symbol\u001b[0m\u001b[0;34m\u001b[0m\u001b[0;34m\u001b[0m\u001b[0;34m\u001b[0m\u001b[0m\n\u001b[1;32m     16\u001b[0m \u001b[0;31m# get_data('QQQQ') #not a valid Symbol\u001b[0m\u001b[0;34m\u001b[0m\u001b[0;34m\u001b[0m\u001b[0;34m\u001b[0m\u001b[0m\n",
            "\u001b[0;32m<ipython-input-27-65a370d6ab9e>\u001b[0m in \u001b[0;36mget_data\u001b[0;34m(ticker)\u001b[0m\n\u001b[1;32m      6\u001b[0m     \u001b[0;32mtry\u001b[0m\u001b[0;34m:\u001b[0m\u001b[0;34m\u001b[0m\u001b[0;34m\u001b[0m\u001b[0m\n\u001b[1;32m      7\u001b[0m         \u001b[0;31m# df = pandas_datareader.data.DataReader('%s' % (ticker), 'morningstar', start, end, retry_count=0)\u001b[0m\u001b[0;34m\u001b[0m\u001b[0;34m\u001b[0m\u001b[0;34m\u001b[0m\u001b[0m\n\u001b[0;32m----> 8\u001b[0;31m         \u001b[0mdf\u001b[0m \u001b[0;34m=\u001b[0m \u001b[0mweb\u001b[0m\u001b[0;34m.\u001b[0m\u001b[0mget_quote_av\u001b[0m\u001b[0;34m(\u001b[0m\u001b[0mticker\u001b[0m\u001b[0;34m,\u001b[0m \u001b[0mapi_key\u001b[0m \u001b[0;34m=\u001b[0m \u001b[0mos\u001b[0m\u001b[0;34m.\u001b[0m\u001b[0mgetenv\u001b[0m\u001b[0;34m(\u001b[0m\u001b[0;34m'ALPHAVANTAGE_API_KEY'\u001b[0m\u001b[0;34m)\u001b[0m\u001b[0;34m)\u001b[0m\u001b[0;34m\u001b[0m\u001b[0;34m\u001b[0m\u001b[0m\n\u001b[0m\u001b[1;32m      9\u001b[0m         \u001b[0mprint\u001b[0m\u001b[0;34m(\u001b[0m\u001b[0mdf\u001b[0m\u001b[0;34m.\u001b[0m\u001b[0mtail\u001b[0m\u001b[0;34m(\u001b[0m\u001b[0;36m5\u001b[0m\u001b[0;34m)\u001b[0m\u001b[0;34m)\u001b[0m\u001b[0;34m\u001b[0m\u001b[0;34m\u001b[0m\u001b[0m\n\u001b[1;32m     10\u001b[0m     \u001b[0;32mexcept\u001b[0m \u001b[0mValueError\u001b[0m\u001b[0;34m:\u001b[0m\u001b[0;34m\u001b[0m\u001b[0;34m\u001b[0m\u001b[0m\n",
            "\u001b[0;32m/usr/local/lib/python3.6/dist-packages/pandas_datareader/data.py\u001b[0m in \u001b[0;36mget_quote_av\u001b[0;34m(*args, **kwargs)\u001b[0m\n\u001b[1;32m     76\u001b[0m \u001b[0;34m\u001b[0m\u001b[0m\n\u001b[1;32m     77\u001b[0m \u001b[0;32mdef\u001b[0m \u001b[0mget_quote_av\u001b[0m\u001b[0;34m(\u001b[0m\u001b[0;34m*\u001b[0m\u001b[0margs\u001b[0m\u001b[0;34m,\u001b[0m \u001b[0;34m**\u001b[0m\u001b[0mkwargs\u001b[0m\u001b[0;34m)\u001b[0m\u001b[0;34m:\u001b[0m\u001b[0;34m\u001b[0m\u001b[0;34m\u001b[0m\u001b[0m\n\u001b[0;32m---> 78\u001b[0;31m     \u001b[0;32mreturn\u001b[0m \u001b[0mAVQuotesReader\u001b[0m\u001b[0;34m(\u001b[0m\u001b[0;34m*\u001b[0m\u001b[0margs\u001b[0m\u001b[0;34m,\u001b[0m \u001b[0;34m**\u001b[0m\u001b[0mkwargs\u001b[0m\u001b[0;34m)\u001b[0m\u001b[0;34m.\u001b[0m\u001b[0mread\u001b[0m\u001b[0;34m(\u001b[0m\u001b[0;34m)\u001b[0m\u001b[0;34m\u001b[0m\u001b[0;34m\u001b[0m\u001b[0m\n\u001b[0m\u001b[1;32m     79\u001b[0m \u001b[0;34m\u001b[0m\u001b[0m\n\u001b[1;32m     80\u001b[0m \u001b[0;34m\u001b[0m\u001b[0m\n",
            "\u001b[0;32m/usr/local/lib/python3.6/dist-packages/pandas_datareader/base.py\u001b[0m in \u001b[0;36mread\u001b[0;34m(self)\u001b[0m\n\u001b[1;32m     75\u001b[0m         \u001b[0;34m\"\"\"Read data from connector\"\"\"\u001b[0m\u001b[0;34m\u001b[0m\u001b[0;34m\u001b[0m\u001b[0m\n\u001b[1;32m     76\u001b[0m         \u001b[0;32mtry\u001b[0m\u001b[0;34m:\u001b[0m\u001b[0;34m\u001b[0m\u001b[0;34m\u001b[0m\u001b[0m\n\u001b[0;32m---> 77\u001b[0;31m             \u001b[0;32mreturn\u001b[0m \u001b[0mself\u001b[0m\u001b[0;34m.\u001b[0m\u001b[0m_read_one_data\u001b[0m\u001b[0;34m(\u001b[0m\u001b[0mself\u001b[0m\u001b[0;34m.\u001b[0m\u001b[0murl\u001b[0m\u001b[0;34m,\u001b[0m \u001b[0mself\u001b[0m\u001b[0;34m.\u001b[0m\u001b[0mparams\u001b[0m\u001b[0;34m)\u001b[0m\u001b[0;34m\u001b[0m\u001b[0;34m\u001b[0m\u001b[0m\n\u001b[0m\u001b[1;32m     78\u001b[0m         \u001b[0;32mfinally\u001b[0m\u001b[0;34m:\u001b[0m\u001b[0;34m\u001b[0m\u001b[0;34m\u001b[0m\u001b[0m\n\u001b[1;32m     79\u001b[0m             \u001b[0mself\u001b[0m\u001b[0;34m.\u001b[0m\u001b[0mclose\u001b[0m\u001b[0;34m(\u001b[0m\u001b[0;34m)\u001b[0m\u001b[0;34m\u001b[0m\u001b[0;34m\u001b[0m\u001b[0m\n",
            "\u001b[0;32m/usr/local/lib/python3.6/dist-packages/pandas_datareader/base.py\u001b[0m in \u001b[0;36m_read_one_data\u001b[0;34m(self, url, params)\u001b[0m\n\u001b[1;32m     87\u001b[0m         \u001b[0;32melse\u001b[0m\u001b[0;34m:\u001b[0m\u001b[0;34m\u001b[0m\u001b[0;34m\u001b[0m\u001b[0m\n\u001b[1;32m     88\u001b[0m             \u001b[0;32mraise\u001b[0m \u001b[0mNotImplementedError\u001b[0m\u001b[0;34m(\u001b[0m\u001b[0mself\u001b[0m\u001b[0;34m.\u001b[0m\u001b[0m_format\u001b[0m\u001b[0;34m)\u001b[0m\u001b[0;34m\u001b[0m\u001b[0;34m\u001b[0m\u001b[0m\n\u001b[0;32m---> 89\u001b[0;31m         \u001b[0;32mreturn\u001b[0m \u001b[0mself\u001b[0m\u001b[0;34m.\u001b[0m\u001b[0m_read_lines\u001b[0m\u001b[0;34m(\u001b[0m\u001b[0mout\u001b[0m\u001b[0;34m)\u001b[0m\u001b[0;34m\u001b[0m\u001b[0;34m\u001b[0m\u001b[0m\n\u001b[0m\u001b[1;32m     90\u001b[0m \u001b[0;34m\u001b[0m\u001b[0m\n\u001b[1;32m     91\u001b[0m     \u001b[0;32mdef\u001b[0m \u001b[0m_read_url_as_StringIO\u001b[0m\u001b[0;34m(\u001b[0m\u001b[0mself\u001b[0m\u001b[0;34m,\u001b[0m \u001b[0murl\u001b[0m\u001b[0;34m,\u001b[0m \u001b[0mparams\u001b[0m\u001b[0;34m=\u001b[0m\u001b[0;32mNone\u001b[0m\u001b[0;34m)\u001b[0m\u001b[0;34m:\u001b[0m\u001b[0;34m\u001b[0m\u001b[0;34m\u001b[0m\u001b[0m\n",
            "\u001b[0;32m/usr/local/lib/python3.6/dist-packages/pandas_datareader/av/quotes.py\u001b[0m in \u001b[0;36m_read_lines\u001b[0;34m(self, out)\u001b[0m\n\u001b[1;32m     57\u001b[0m     \u001b[0;32mdef\u001b[0m \u001b[0m_read_lines\u001b[0m\u001b[0;34m(\u001b[0m\u001b[0mself\u001b[0m\u001b[0;34m,\u001b[0m \u001b[0mout\u001b[0m\u001b[0;34m)\u001b[0m\u001b[0;34m:\u001b[0m\u001b[0;34m\u001b[0m\u001b[0;34m\u001b[0m\u001b[0m\n\u001b[1;32m     58\u001b[0m         \u001b[0mresult\u001b[0m \u001b[0;34m=\u001b[0m \u001b[0;34m[\u001b[0m\u001b[0;34m]\u001b[0m\u001b[0;34m\u001b[0m\u001b[0;34m\u001b[0m\u001b[0m\n\u001b[0;32m---> 59\u001b[0;31m         \u001b[0mquotes\u001b[0m \u001b[0;34m=\u001b[0m \u001b[0mout\u001b[0m\u001b[0;34m[\u001b[0m\u001b[0mself\u001b[0m\u001b[0;34m.\u001b[0m\u001b[0mdata_key\u001b[0m\u001b[0;34m]\u001b[0m\u001b[0;34m\u001b[0m\u001b[0;34m\u001b[0m\u001b[0m\n\u001b[0m\u001b[1;32m     60\u001b[0m         \u001b[0;32mfor\u001b[0m \u001b[0mquote\u001b[0m \u001b[0;32min\u001b[0m \u001b[0mquotes\u001b[0m\u001b[0;34m:\u001b[0m\u001b[0;34m\u001b[0m\u001b[0;34m\u001b[0m\u001b[0m\n\u001b[1;32m     61\u001b[0m             \u001b[0mdf\u001b[0m \u001b[0;34m=\u001b[0m \u001b[0mpd\u001b[0m\u001b[0;34m.\u001b[0m\u001b[0mDataFrame\u001b[0m\u001b[0;34m(\u001b[0m\u001b[0mquote\u001b[0m\u001b[0;34m,\u001b[0m \u001b[0mindex\u001b[0m\u001b[0;34m=\u001b[0m\u001b[0;34m[\u001b[0m\u001b[0;36m0\u001b[0m\u001b[0;34m]\u001b[0m\u001b[0;34m)\u001b[0m\u001b[0;34m\u001b[0m\u001b[0;34m\u001b[0m\u001b[0m\n",
            "\u001b[0;31mKeyError\u001b[0m: 'Stock Quotes'"
          ]
        }
      ]
    },
    {
      "cell_type": "code",
      "metadata": {
        "scrolled": true,
        "id": "BRVI5JCKmNmh",
        "colab_type": "code",
        "outputId": "0b2437dd-55bf-4f51-de48-c93f0c42958f",
        "colab": {
          "base_uri": "https://localhost:8080/",
          "height": 450
        }
      },
      "source": [
        "## 02/05/2020\n",
        "\n",
        "#ALPHAVANTAGE_API_KEY = 'ANBKAAOU9YDNYBRV'\n",
        "#keyValue = os.getenv(ALPHAVANTAGE_API_KEY)\n",
        "## os.environ['ALPHAVANTAGE_API_KEY'] = 'ANBKAAOU9YDNYBRV'\n",
        "### get_quote_yahoo('AGRX').price\n",
        "### get_quote_yahoo('WORK').price\n",
        "#pd.concat('WORK', web.DataReader('WORK', 'yahoo', '2019-10-01'))\n",
        "outDF = web.DataReader('WORK', 'yahoo', '2019-10-01')\n",
        "outDF.assign(Stock = 'WORK')\n",
        "# len(get_quote_yahoo(investData.ticker[3]))\n",
        "## web.get_quote_av([\"AAPL\"], api_key = os.getenv('ALPHAVANTAGE_API_KEY'))\n",
        "## web.get_quote_av([\"AAPL\", \"TSLA\"])\n",
        "# os.getcwd()\n",
        "## os.getenv('ALPHAVANTAGE_API_KEY')\n",
        "## web.get_sector_performance_av()\n",
        "# alphaVantage API Key: ANBKAAOU9YDNYBRV\n",
        "## investDataSubsetDF_clean =  investDataSubsetDF[investDataSubsetDF['SCFlag'] == 'noSC']\n",
        "## web.DataReader('gs', 'iex-tops')\n",
        "## web.get_quote_av([\"AAPL\", \"TSLA\"])"
      ],
      "execution_count": 0,
      "outputs": [
        {
          "output_type": "execute_result",
          "data": {
            "text/html": [
              "<div>\n",
              "<style scoped>\n",
              "    .dataframe tbody tr th:only-of-type {\n",
              "        vertical-align: middle;\n",
              "    }\n",
              "\n",
              "    .dataframe tbody tr th {\n",
              "        vertical-align: top;\n",
              "    }\n",
              "\n",
              "    .dataframe thead th {\n",
              "        text-align: right;\n",
              "    }\n",
              "</style>\n",
              "<table border=\"1\" class=\"dataframe\">\n",
              "  <thead>\n",
              "    <tr style=\"text-align: right;\">\n",
              "      <th></th>\n",
              "      <th>High</th>\n",
              "      <th>Low</th>\n",
              "      <th>Open</th>\n",
              "      <th>Close</th>\n",
              "      <th>Volume</th>\n",
              "      <th>Adj Close</th>\n",
              "      <th>Stock</th>\n",
              "    </tr>\n",
              "    <tr>\n",
              "      <th>Date</th>\n",
              "      <th></th>\n",
              "      <th></th>\n",
              "      <th></th>\n",
              "      <th></th>\n",
              "      <th></th>\n",
              "      <th></th>\n",
              "      <th></th>\n",
              "    </tr>\n",
              "  </thead>\n",
              "  <tbody>\n",
              "    <tr>\n",
              "      <th>2019-10-01</th>\n",
              "      <td>24.070000</td>\n",
              "      <td>22.610001</td>\n",
              "      <td>24.070000</td>\n",
              "      <td>22.870001</td>\n",
              "      <td>8546700</td>\n",
              "      <td>22.870001</td>\n",
              "      <td>WORK</td>\n",
              "    </tr>\n",
              "    <tr>\n",
              "      <th>2019-10-02</th>\n",
              "      <td>23.490000</td>\n",
              "      <td>22.120001</td>\n",
              "      <td>22.270000</td>\n",
              "      <td>23.430000</td>\n",
              "      <td>6648800</td>\n",
              "      <td>23.430000</td>\n",
              "      <td>WORK</td>\n",
              "    </tr>\n",
              "    <tr>\n",
              "      <th>2019-10-03</th>\n",
              "      <td>25.420000</td>\n",
              "      <td>22.530001</td>\n",
              "      <td>23.340000</td>\n",
              "      <td>24.930000</td>\n",
              "      <td>16875200</td>\n",
              "      <td>24.930000</td>\n",
              "      <td>WORK</td>\n",
              "    </tr>\n",
              "    <tr>\n",
              "      <th>2019-10-04</th>\n",
              "      <td>25.209999</td>\n",
              "      <td>24.230000</td>\n",
              "      <td>25.100000</td>\n",
              "      <td>24.969999</td>\n",
              "      <td>6648800</td>\n",
              "      <td>24.969999</td>\n",
              "      <td>WORK</td>\n",
              "    </tr>\n",
              "    <tr>\n",
              "      <th>2019-10-07</th>\n",
              "      <td>26.280001</td>\n",
              "      <td>24.570000</td>\n",
              "      <td>24.620001</td>\n",
              "      <td>26.049999</td>\n",
              "      <td>7737100</td>\n",
              "      <td>26.049999</td>\n",
              "      <td>WORK</td>\n",
              "    </tr>\n",
              "    <tr>\n",
              "      <th>...</th>\n",
              "      <td>...</td>\n",
              "      <td>...</td>\n",
              "      <td>...</td>\n",
              "      <td>...</td>\n",
              "      <td>...</td>\n",
              "      <td>...</td>\n",
              "      <td>...</td>\n",
              "    </tr>\n",
              "    <tr>\n",
              "      <th>2020-01-30</th>\n",
              "      <td>20.730000</td>\n",
              "      <td>20.110001</td>\n",
              "      <td>20.620001</td>\n",
              "      <td>20.639999</td>\n",
              "      <td>6295300</td>\n",
              "      <td>20.639999</td>\n",
              "      <td>WORK</td>\n",
              "    </tr>\n",
              "    <tr>\n",
              "      <th>2020-01-31</th>\n",
              "      <td>20.780001</td>\n",
              "      <td>20.200001</td>\n",
              "      <td>20.510000</td>\n",
              "      <td>20.730000</td>\n",
              "      <td>5398800</td>\n",
              "      <td>20.730000</td>\n",
              "      <td>WORK</td>\n",
              "    </tr>\n",
              "    <tr>\n",
              "      <th>2020-02-03</th>\n",
              "      <td>21.100000</td>\n",
              "      <td>20.264999</td>\n",
              "      <td>20.780001</td>\n",
              "      <td>20.980000</td>\n",
              "      <td>6471900</td>\n",
              "      <td>20.980000</td>\n",
              "      <td>WORK</td>\n",
              "    </tr>\n",
              "    <tr>\n",
              "      <th>2020-02-04</th>\n",
              "      <td>23.590000</td>\n",
              "      <td>21.549999</td>\n",
              "      <td>21.549999</td>\n",
              "      <td>23.250000</td>\n",
              "      <td>20607300</td>\n",
              "      <td>23.250000</td>\n",
              "      <td>WORK</td>\n",
              "    </tr>\n",
              "    <tr>\n",
              "      <th>2020-02-05</th>\n",
              "      <td>23.660000</td>\n",
              "      <td>22.530001</td>\n",
              "      <td>23.360001</td>\n",
              "      <td>23.309999</td>\n",
              "      <td>12365649</td>\n",
              "      <td>23.309999</td>\n",
              "      <td>WORK</td>\n",
              "    </tr>\n",
              "  </tbody>\n",
              "</table>\n",
              "<p>88 rows × 7 columns</p>\n",
              "</div>"
            ],
            "text/plain": [
              "                 High        Low       Open  ...    Volume  Adj Close  Stock\n",
              "Date                                         ...                            \n",
              "2019-10-01  24.070000  22.610001  24.070000  ...   8546700  22.870001   WORK\n",
              "2019-10-02  23.490000  22.120001  22.270000  ...   6648800  23.430000   WORK\n",
              "2019-10-03  25.420000  22.530001  23.340000  ...  16875200  24.930000   WORK\n",
              "2019-10-04  25.209999  24.230000  25.100000  ...   6648800  24.969999   WORK\n",
              "2019-10-07  26.280001  24.570000  24.620001  ...   7737100  26.049999   WORK\n",
              "...               ...        ...        ...  ...       ...        ...    ...\n",
              "2020-01-30  20.730000  20.110001  20.620001  ...   6295300  20.639999   WORK\n",
              "2020-01-31  20.780001  20.200001  20.510000  ...   5398800  20.730000   WORK\n",
              "2020-02-03  21.100000  20.264999  20.780001  ...   6471900  20.980000   WORK\n",
              "2020-02-04  23.590000  21.549999  21.549999  ...  20607300  23.250000   WORK\n",
              "2020-02-05  23.660000  22.530001  23.360001  ...  12365649  23.309999   WORK\n",
              "\n",
              "[88 rows x 7 columns]"
            ]
          },
          "metadata": {
            "tags": []
          },
          "execution_count": 22
        }
      ]
    },
    {
      "cell_type": "code",
      "metadata": {
        "id": "PRpsxR_AW0fz",
        "colab_type": "code",
        "outputId": "57a43893-c9cc-4966-a329-8c6845620452",
        "colab": {
          "base_uri": "https://localhost:8080/",
          "height": 35
        }
      },
      "source": [
        "investDataSubsetDF_clean['ticker'].iloc[13]"
      ],
      "execution_count": 0,
      "outputs": [
        {
          "output_type": "execute_result",
          "data": {
            "text/plain": [
              "'ACCP'"
            ]
          },
          "metadata": {
            "tags": []
          },
          "execution_count": 158
        }
      ]
    },
    {
      "cell_type": "code",
      "metadata": {
        "id": "yxXYfbyOsUtD",
        "colab_type": "code",
        "outputId": "8795f811-18c3-4d7e-831c-1c3b4e6e7da0",
        "colab": {
          "base_uri": "https://localhost:8080/",
          "height": 214
        }
      },
      "source": [
        "###################################\n",
        "# Need code to extract tickers with recent data\n",
        "# and extract tickers with SPECIAL CHARACTERS\n",
        "# Data as of Today() - 1\n",
        "###################################\n",
        "\n",
        "dataMostRecent = []\n",
        "dataMostRecent = web.get_quote_av(list(investDataSubsetDF_clean['ticker'][14:20]), api_key = os.getenv('ALPHAVANTAGE_API_KEY'))\n",
        "dataMostRecent"
      ],
      "execution_count": 0,
      "outputs": [
        {
          "output_type": "error",
          "ename": "NameError",
          "evalue": "ignored",
          "traceback": [
            "\u001b[0;31m---------------------------------------------------------------------------\u001b[0m",
            "\u001b[0;31mNameError\u001b[0m                                 Traceback (most recent call last)",
            "\u001b[0;32m<ipython-input-11-5cb59e5ddef9>\u001b[0m in \u001b[0;36m<module>\u001b[0;34m()\u001b[0m\n\u001b[1;32m      1\u001b[0m \u001b[0;34m\u001b[0m\u001b[0m\n\u001b[1;32m      2\u001b[0m \u001b[0mdataMostRecent\u001b[0m \u001b[0;34m=\u001b[0m \u001b[0;34m[\u001b[0m\u001b[0;34m]\u001b[0m\u001b[0;34m\u001b[0m\u001b[0;34m\u001b[0m\u001b[0m\n\u001b[0;32m----> 3\u001b[0;31m \u001b[0mdataMostRecent\u001b[0m \u001b[0;34m=\u001b[0m \u001b[0mweb\u001b[0m\u001b[0;34m.\u001b[0m\u001b[0mget_quote_av\u001b[0m\u001b[0;34m(\u001b[0m\u001b[0mlist\u001b[0m\u001b[0;34m(\u001b[0m\u001b[0minvestDataSubsetDF_clean\u001b[0m\u001b[0;34m[\u001b[0m\u001b[0;34m'ticker'\u001b[0m\u001b[0;34m]\u001b[0m\u001b[0;34m[\u001b[0m\u001b[0;36m14\u001b[0m\u001b[0;34m:\u001b[0m\u001b[0;36m20\u001b[0m\u001b[0;34m]\u001b[0m\u001b[0;34m)\u001b[0m\u001b[0;34m,\u001b[0m \u001b[0mapi_key\u001b[0m \u001b[0;34m=\u001b[0m \u001b[0mos\u001b[0m\u001b[0;34m.\u001b[0m\u001b[0mgetenv\u001b[0m\u001b[0;34m(\u001b[0m\u001b[0;34m'ALPHAVANTAGE_API_KEY'\u001b[0m\u001b[0;34m)\u001b[0m\u001b[0;34m)\u001b[0m\u001b[0;34m\u001b[0m\u001b[0;34m\u001b[0m\u001b[0m\n\u001b[0m\u001b[1;32m      4\u001b[0m \u001b[0mdataMostRecent\u001b[0m\u001b[0;34m\u001b[0m\u001b[0;34m\u001b[0m\u001b[0m\n",
            "\u001b[0;31mNameError\u001b[0m: name 'investDataSubsetDF_clean' is not defined"
          ]
        }
      ]
    },
    {
      "cell_type": "code",
      "metadata": {
        "id": "cDXv7O-ZzTYS",
        "colab_type": "code",
        "outputId": "cb98dbde-0673-4aae-c499-cdae3268d766",
        "colab": {
          "base_uri": "https://localhost:8080/",
          "height": 163
        }
      },
      "source": [
        "df['add'] = df.apply(np.sum, axis = 1)"
      ],
      "execution_count": 0,
      "outputs": [
        {
          "output_type": "error",
          "ename": "NameError",
          "evalue": "ignored",
          "traceback": [
            "\u001b[0;31m---------------------------------------------------------------------------\u001b[0m",
            "\u001b[0;31mNameError\u001b[0m                                 Traceback (most recent call last)",
            "\u001b[0;32m<ipython-input-44-f7c5751d1e56>\u001b[0m in \u001b[0;36m<module>\u001b[0;34m()\u001b[0m\n\u001b[0;32m----> 1\u001b[0;31m \u001b[0mdataMostRecent\u001b[0m\u001b[0;34m\u001b[0m\u001b[0;34m\u001b[0m\u001b[0m\n\u001b[0m",
            "\u001b[0;31mNameError\u001b[0m: name 'dataMostRecent' is not defined"
          ]
        }
      ]
    },
    {
      "cell_type": "code",
      "metadata": {
        "id": "EOhDmUwXmNmj",
        "colab_type": "code",
        "colab": {}
      },
      "source": [
        "#########################\n",
        "# Get Current Prices\n",
        "# Note that if a Ticker does not have a price, the FOR LOOP will break due to lack of missing Date/PRICE element\n",
        "#########################\n",
        "\n",
        "outDF = []\n",
        "\n",
        "for x in investDataSubset[0]:  \n",
        "    # print(get_quote_yahoo(x).price)\n",
        "    outDF = get_quote_yahoo(x)\n",
        "    # print(x)\n",
        "    # print(tmp)\n",
        "    # dfTickerPrice = get_quote_yahoo(x).price\n",
        "    # calPerChange = (df.Close - df.Open)/df.Open\n",
        "    # outDF.append(calPerChange)\n",
        "# return calPerChange\n",
        "# outDF"
      ],
      "execution_count": 0,
      "outputs": []
    },
    {
      "cell_type": "code",
      "metadata": {
        "id": "c5bsHAlGrO_4",
        "colab_type": "code",
        "outputId": "07fd8e40-7b59-41c5-d7b2-11f25e723ff8",
        "colab": {
          "base_uri": "https://localhost:8080/",
          "height": 134
        }
      },
      "source": [
        "outDF"
      ],
      "execution_count": 0,
      "outputs": [
        {
          "output_type": "execute_result",
          "data": {
            "text/html": [
              "<div>\n",
              "<style scoped>\n",
              "    .dataframe tbody tr th:only-of-type {\n",
              "        vertical-align: middle;\n",
              "    }\n",
              "\n",
              "    .dataframe tbody tr th {\n",
              "        vertical-align: top;\n",
              "    }\n",
              "\n",
              "    .dataframe thead th {\n",
              "        text-align: right;\n",
              "    }\n",
              "</style>\n",
              "<table border=\"1\" class=\"dataframe\">\n",
              "  <thead>\n",
              "    <tr style=\"text-align: right;\">\n",
              "      <th></th>\n",
              "      <th>language</th>\n",
              "      <th>region</th>\n",
              "      <th>quoteType</th>\n",
              "      <th>triggerable</th>\n",
              "      <th>quoteSourceName</th>\n",
              "      <th>currency</th>\n",
              "      <th>firstTradeDateMilliseconds</th>\n",
              "      <th>priceHint</th>\n",
              "      <th>postMarketChangePercent</th>\n",
              "      <th>postMarketTime</th>\n",
              "      <th>postMarketPrice</th>\n",
              "      <th>postMarketChange</th>\n",
              "      <th>regularMarketChange</th>\n",
              "      <th>regularMarketChangePercent</th>\n",
              "      <th>regularMarketTime</th>\n",
              "      <th>regularMarketPrice</th>\n",
              "      <th>regularMarketDayHigh</th>\n",
              "      <th>regularMarketDayRange</th>\n",
              "      <th>regularMarketDayLow</th>\n",
              "      <th>regularMarketVolume</th>\n",
              "      <th>regularMarketPreviousClose</th>\n",
              "      <th>bid</th>\n",
              "      <th>ask</th>\n",
              "      <th>bidSize</th>\n",
              "      <th>askSize</th>\n",
              "      <th>fullExchangeName</th>\n",
              "      <th>financialCurrency</th>\n",
              "      <th>regularMarketOpen</th>\n",
              "      <th>averageDailyVolume3Month</th>\n",
              "      <th>averageDailyVolume10Day</th>\n",
              "      <th>fiftyTwoWeekLowChange</th>\n",
              "      <th>fiftyTwoWeekLowChangePercent</th>\n",
              "      <th>fiftyTwoWeekRange</th>\n",
              "      <th>fiftyTwoWeekHighChange</th>\n",
              "      <th>fiftyTwoWeekHighChangePercent</th>\n",
              "      <th>fiftyTwoWeekLow</th>\n",
              "      <th>fiftyTwoWeekHigh</th>\n",
              "      <th>dividendDate</th>\n",
              "      <th>earningsTimestamp</th>\n",
              "      <th>earningsTimestampStart</th>\n",
              "      <th>earningsTimestampEnd</th>\n",
              "      <th>trailingAnnualDividendRate</th>\n",
              "      <th>trailingPE</th>\n",
              "      <th>trailingAnnualDividendYield</th>\n",
              "      <th>marketState</th>\n",
              "      <th>epsTrailingTwelveMonths</th>\n",
              "      <th>epsForward</th>\n",
              "      <th>sharesOutstanding</th>\n",
              "      <th>bookValue</th>\n",
              "      <th>fiftyDayAverage</th>\n",
              "      <th>fiftyDayAverageChange</th>\n",
              "      <th>fiftyDayAverageChangePercent</th>\n",
              "      <th>twoHundredDayAverage</th>\n",
              "      <th>twoHundredDayAverageChange</th>\n",
              "      <th>twoHundredDayAverageChangePercent</th>\n",
              "      <th>marketCap</th>\n",
              "      <th>forwardPE</th>\n",
              "      <th>priceToBook</th>\n",
              "      <th>sourceInterval</th>\n",
              "      <th>exchangeDataDelayedBy</th>\n",
              "      <th>tradeable</th>\n",
              "      <th>exchange</th>\n",
              "      <th>shortName</th>\n",
              "      <th>longName</th>\n",
              "      <th>messageBoardId</th>\n",
              "      <th>exchangeTimezoneName</th>\n",
              "      <th>exchangeTimezoneShortName</th>\n",
              "      <th>gmtOffSetMilliseconds</th>\n",
              "      <th>market</th>\n",
              "      <th>esgPopulated</th>\n",
              "      <th>price</th>\n",
              "    </tr>\n",
              "  </thead>\n",
              "  <tbody>\n",
              "    <tr>\n",
              "      <th>A</th>\n",
              "      <td>en-US</td>\n",
              "      <td>US</td>\n",
              "      <td>EQUITY</td>\n",
              "      <td>True</td>\n",
              "      <td>Delayed Quote</td>\n",
              "      <td>USD</td>\n",
              "      <td>942915600000</td>\n",
              "      <td>2</td>\n",
              "      <td>0.0</td>\n",
              "      <td>1579298684</td>\n",
              "      <td>90.12</td>\n",
              "      <td>0.0</td>\n",
              "      <td>0.660004</td>\n",
              "      <td>0.737764</td>\n",
              "      <td>1579295048</td>\n",
              "      <td>90.12</td>\n",
              "      <td>90.28</td>\n",
              "      <td>89.205 - 90.28</td>\n",
              "      <td>89.205</td>\n",
              "      <td>3718336</td>\n",
              "      <td>89.46</td>\n",
              "      <td>88.87</td>\n",
              "      <td>89.98</td>\n",
              "      <td>12</td>\n",
              "      <td>14</td>\n",
              "      <td>NYSE</td>\n",
              "      <td>USD</td>\n",
              "      <td>89.97</td>\n",
              "      <td>1613106</td>\n",
              "      <td>1944500</td>\n",
              "      <td>24.770004</td>\n",
              "      <td>0.379036</td>\n",
              "      <td>65.35 - 90.28</td>\n",
              "      <td>-0.159996</td>\n",
              "      <td>-0.001772</td>\n",
              "      <td>65.35</td>\n",
              "      <td>90.28</td>\n",
              "      <td>1579651200</td>\n",
              "      <td>1582059600</td>\n",
              "      <td>1582059600</td>\n",
              "      <td>1582059600</td>\n",
              "      <td>0.656</td>\n",
              "      <td>26.741842</td>\n",
              "      <td>0.007333</td>\n",
              "      <td>CLOSED</td>\n",
              "      <td>3.37</td>\n",
              "      <td>3.8</td>\n",
              "      <td>309000000</td>\n",
              "      <td>15.362</td>\n",
              "      <td>84.83727</td>\n",
              "      <td>5.28273</td>\n",
              "      <td>0.062269</td>\n",
              "      <td>76.43817</td>\n",
              "      <td>13.681831</td>\n",
              "      <td>0.178992</td>\n",
              "      <td>27953692672</td>\n",
              "      <td>23.71579</td>\n",
              "      <td>5.866424</td>\n",
              "      <td>15</td>\n",
              "      <td>0</td>\n",
              "      <td>True</td>\n",
              "      <td>NYQ</td>\n",
              "      <td>Agilent Technologies, Inc.</td>\n",
              "      <td>Agilent Technologies, Inc.</td>\n",
              "      <td>finmb_154924</td>\n",
              "      <td>America/New_York</td>\n",
              "      <td>EST</td>\n",
              "      <td>-18000000</td>\n",
              "      <td>us_market</td>\n",
              "      <td>False</td>\n",
              "      <td>90.12</td>\n",
              "    </tr>\n",
              "  </tbody>\n",
              "</table>\n",
              "</div>"
            ],
            "text/plain": [
              "  language region quoteType  ...     market esgPopulated  price\n",
              "A    en-US     US    EQUITY  ...  us_market        False  90.12\n",
              "\n",
              "[1 rows x 71 columns]"
            ]
          },
          "metadata": {
            "tags": []
          },
          "execution_count": 20
        }
      ]
    },
    {
      "cell_type": "code",
      "metadata": {
        "id": "m_Yw-GTjmNml",
        "colab_type": "code",
        "outputId": "e5ab65fa-3834-485d-c47d-cadd1e3e76ac",
        "colab": {
          "base_uri": "https://localhost:8080/",
          "height": 51
        }
      },
      "source": [
        "#########################\n",
        "# Extract Single Ticker\n",
        "#########################\n",
        "\n",
        "investData.loc[investData.ticker == 'IBIO']\n",
        "myTicker = investData.loc[investData.ticker == 'IBIO'].ticker\n",
        "myTicker"
      ],
      "execution_count": 0,
      "outputs": [
        {
          "output_type": "execute_result",
          "data": {
            "text/plain": [
              "3164    IBIO\n",
              "Name: ticker, dtype: object"
            ]
          },
          "metadata": {
            "tags": []
          },
          "execution_count": 12
        }
      ]
    },
    {
      "cell_type": "code",
      "metadata": {
        "id": "kvpqIyR3mNmo",
        "colab_type": "code",
        "outputId": "a18aab3f-1d82-47cf-873a-5c6a4788347f",
        "colab": {}
      },
      "source": [
        "#########################\n",
        "# Create Array with Tickers\n",
        "# Run from here\n",
        "#########################\n",
        "\n",
        "myTickers = ['AGRX', 'ONTX', 'IBIO', 'SRRA', 'OBSV']\n",
        "myTickers"
      ],
      "execution_count": 0,
      "outputs": [
        {
          "output_type": "execute_result",
          "data": {
            "text/plain": [
              "['AGRX', 'ONTX', 'IBIO', 'SRRA', 'OBSV']"
            ]
          },
          "metadata": {
            "tags": []
          },
          "execution_count": 41
        }
      ]
    },
    {
      "cell_type": "code",
      "metadata": {
        "id": "BGxHCBvbmNmq",
        "colab_type": "code",
        "colab": {}
      },
      "source": [
        "#########################\n",
        "# Extract Single Series\n",
        "#########################\n",
        "\n",
        "start = datetime.datetime(2019, 1, 1)\n",
        "end = datetime.datetime(2019, 1, 11)\n",
        "\n",
        "#########################\n",
        "# here arbirtraty ticker input\n",
        "# note that excluding \"end\" will extract current data\n",
        "#########################\n",
        "\n",
        "df = web.DataReader(myTicker, 'yahoo', start)\n",
        "# df.describe()"
      ],
      "execution_count": 0,
      "outputs": []
    },
    {
      "cell_type": "code",
      "metadata": {
        "id": "Z0vArgwymNmt",
        "colab_type": "code",
        "colab": {}
      },
      "source": [
        "#########################\n",
        "# Extract Multiple Series\n",
        "#########################\n",
        "\n",
        "outDF = []\n",
        "\n",
        "for i in myTickers:  \n",
        "    df = web.DataReader(myTickers, 'yahoo', start)\n",
        "    calPerChange = (df.Close - df.Open)/df.Open\n",
        "    # outDF.append(calPerChange)\n",
        "# return calPerChange\n",
        "# outDF"
      ],
      "execution_count": 0,
      "outputs": []
    },
    {
      "cell_type": "code",
      "metadata": {
        "id": "6DlewaMymNmv",
        "colab_type": "code",
        "outputId": "45db3722-49c6-4104-eb1a-fcc3de8d9eb6",
        "colab": {}
      },
      "source": [
        "# calPerChange = []\n",
        "calPerChange.head()\n",
        "calPerChange.plot(subplots=True, figsize=(15,6))"
      ],
      "execution_count": 0,
      "outputs": [
        {
          "output_type": "execute_result",
          "data": {
            "text/plain": [
              "array([<matplotlib.axes._subplots.AxesSubplot object at 0x0000013D6A9AE7F0>,\n",
              "       <matplotlib.axes._subplots.AxesSubplot object at 0x0000013D6A880630>,\n",
              "       <matplotlib.axes._subplots.AxesSubplot object at 0x0000013D6A8768D0>,\n",
              "       <matplotlib.axes._subplots.AxesSubplot object at 0x0000013D6A7493C8>,\n",
              "       <matplotlib.axes._subplots.AxesSubplot object at 0x0000013D6A9B4860>],\n",
              "      dtype=object)"
            ]
          },
          "metadata": {
            "tags": []
          },
          "execution_count": 44
        },
        {
          "output_type": "display_data",
          "data": {
            "image/png": "[encoded data removed]",
            "text/plain": [
              "<Figure size 1080x432 with 5 Axes>"
            ]
          },
          "metadata": {
            "tags": [],
            "needs_background": "light"
          }
        }
      ]
    },
    {
      "cell_type": "code",
      "metadata": {
        "id": "SVJh8sremNmx",
        "colab_type": "code",
        "outputId": "86a5fdbd-6855-4f7a-a5f0-d51bf022c7f7",
        "colab": {}
      },
      "source": [
        "corr = calPerChange.corr()\n",
        "corr"
      ],
      "execution_count": 0,
      "outputs": [
        {
          "output_type": "execute_result",
          "data": {
            "text/html": [
              "<div>\n",
              "<style scoped>\n",
              "    .dataframe tbody tr th:only-of-type {\n",
              "        vertical-align: middle;\n",
              "    }\n",
              "\n",
              "    .dataframe tbody tr th {\n",
              "        vertical-align: top;\n",
              "    }\n",
              "\n",
              "    .dataframe thead th {\n",
              "        text-align: right;\n",
              "    }\n",
              "</style>\n",
              "<table border=\"1\" class=\"dataframe\">\n",
              "  <thead>\n",
              "    <tr style=\"text-align: right;\">\n",
              "      <th>Symbols</th>\n",
              "      <th>AGRX</th>\n",
              "      <th>IBIO</th>\n",
              "      <th>OBSV</th>\n",
              "      <th>ONTX</th>\n",
              "      <th>SRRA</th>\n",
              "    </tr>\n",
              "    <tr>\n",
              "      <th>Symbols</th>\n",
              "      <th></th>\n",
              "      <th></th>\n",
              "      <th></th>\n",
              "      <th></th>\n",
              "      <th></th>\n",
              "    </tr>\n",
              "  </thead>\n",
              "  <tbody>\n",
              "    <tr>\n",
              "      <th>AGRX</th>\n",
              "      <td>1.000000</td>\n",
              "      <td>0.189370</td>\n",
              "      <td>0.145480</td>\n",
              "      <td>0.036127</td>\n",
              "      <td>0.094584</td>\n",
              "    </tr>\n",
              "    <tr>\n",
              "      <th>IBIO</th>\n",
              "      <td>0.189370</td>\n",
              "      <td>1.000000</td>\n",
              "      <td>0.119095</td>\n",
              "      <td>-0.011522</td>\n",
              "      <td>-0.013720</td>\n",
              "    </tr>\n",
              "    <tr>\n",
              "      <th>OBSV</th>\n",
              "      <td>0.145480</td>\n",
              "      <td>0.119095</td>\n",
              "      <td>1.000000</td>\n",
              "      <td>0.023037</td>\n",
              "      <td>0.235235</td>\n",
              "    </tr>\n",
              "    <tr>\n",
              "      <th>ONTX</th>\n",
              "      <td>0.036127</td>\n",
              "      <td>-0.011522</td>\n",
              "      <td>0.023037</td>\n",
              "      <td>1.000000</td>\n",
              "      <td>0.209527</td>\n",
              "    </tr>\n",
              "    <tr>\n",
              "      <th>SRRA</th>\n",
              "      <td>0.094584</td>\n",
              "      <td>-0.013720</td>\n",
              "      <td>0.235235</td>\n",
              "      <td>0.209527</td>\n",
              "      <td>1.000000</td>\n",
              "    </tr>\n",
              "  </tbody>\n",
              "</table>\n",
              "</div>"
            ],
            "text/plain": [
              "Symbols      AGRX      IBIO      OBSV      ONTX      SRRA\n",
              "Symbols                                                  \n",
              "AGRX     1.000000  0.189370  0.145480  0.036127  0.094584\n",
              "IBIO     0.189370  1.000000  0.119095 -0.011522 -0.013720\n",
              "OBSV     0.145480  0.119095  1.000000  0.023037  0.235235\n",
              "ONTX     0.036127 -0.011522  0.023037  1.000000  0.209527\n",
              "SRRA     0.094584 -0.013720  0.235235  0.209527  1.000000"
            ]
          },
          "metadata": {
            "tags": []
          },
          "execution_count": 45
        }
      ]
    },
    {
      "cell_type": "code",
      "metadata": {
        "id": "OUgAlNK6mNmz",
        "colab_type": "code",
        "outputId": "b045e9a8-675f-48ad-866e-e647d43e3b88",
        "colab": {}
      },
      "source": [
        "scatter_matrix(calPerChange, diagonal='kde', alpha=0.2, figsize=(5, 5));"
      ],
      "execution_count": 0,
      "outputs": [
        {
          "output_type": "display_data",
          "data": {
            "image/png": "[encoded data removed]",
            "text/plain": [
              "<Figure size 360x360 with 25 Axes>"
            ]
          },
          "metadata": {
            "tags": [],
            "needs_background": "light"
          }
        }
      ]
    },
    {
      "cell_type": "code",
      "metadata": {
        "id": "Eoq89R-dmNm1",
        "colab_type": "code",
        "outputId": "5ed785eb-cc31-49e7-a51b-2ce4b5827356",
        "colab": {}
      },
      "source": [
        "plt.scatter(calPerChange.OBSV, calPerChange.SRRA)\n",
        "plt.xlabel('Returns OBSV')\n",
        "plt.ylabel('Returns SRRA')"
      ],
      "execution_count": 0,
      "outputs": [
        {
          "output_type": "execute_result",
          "data": {
            "text/plain": [
              "Text(0, 0.5, 'Returns SRRA')"
            ]
          },
          "metadata": {
            "tags": []
          },
          "execution_count": 47
        },
        {
          "output_type": "display_data",
          "data": {
            "image/png": "[encoded data removed]",
            "text/plain": [
              "<Figure size 432x288 with 1 Axes>"
            ]
          },
          "metadata": {
            "tags": [],
            "needs_background": "light"
          }
        }
      ]
    },
    {
      "cell_type": "code",
      "metadata": {
        "id": "RY3hrY02mNm3",
        "colab_type": "code",
        "outputId": "ea43a59e-6aed-4b2a-c6cf-736530a3fad9",
        "colab": {}
      },
      "source": [
        "#########################\n",
        "# One outlier, remove\n",
        "#########################\n",
        "\n",
        "calPerChange2 = calPerChange[calPerChange.IBIO < 1]\n",
        "\n",
        "plt.scatter(calPerChange2.AGRX, calPerChange2.IBIO)\n",
        "plt.xlabel('Returns AGRX')\n",
        "plt.ylabel('Returns IBIO')"
      ],
      "execution_count": 0,
      "outputs": [
        {
          "output_type": "execute_result",
          "data": {
            "text/plain": [
              "Text(0, 0.5, 'Returns IBIO')"
            ]
          },
          "metadata": {
            "tags": []
          },
          "execution_count": 24
        },
        {
          "output_type": "display_data",
          "data": {
            "image/png": "[encoded data removed]",
            "text/plain": [
              "<Figure size 432x288 with 1 Axes>"
            ]
          },
          "metadata": {
            "tags": [],
            "needs_background": "light"
          }
        }
      ]
    },
    {
      "cell_type": "code",
      "metadata": {
        "id": "pTzheRZumNm5",
        "colab_type": "code",
        "colab": {}
      },
      "source": [
        "#########################\n",
        "# some calculated values \n",
        "#########################\n",
        "\n",
        "# calPerChange = (outDF.Close - outDF.Open)/outDF.Open\n",
        "# calPerChange\n",
        "# calPerChange = calPerChange.rename(columns={\"IBIO\": \"PerChange\"})\n",
        "# list(outDF.columns) "
      ],
      "execution_count": 0,
      "outputs": []
    },
    {
      "cell_type": "code",
      "metadata": {
        "id": "oPbwV9eumNm7",
        "colab_type": "code",
        "colab": {}
      },
      "source": [
        "# calPerChange.pivot_table(index='Date',columns='Stock',values='PerChange',aggfunc='sum').plot()"
      ],
      "execution_count": 0,
      "outputs": []
    },
    {
      "cell_type": "code",
      "metadata": {
        "id": "Hq4xkbP0mNm9",
        "colab_type": "code",
        "outputId": "6d8331fe-1791-48c7-dafa-56f44822b67d",
        "colab": {}
      },
      "source": [
        "#########################\n",
        "# some calculated values \n",
        "#########################\n",
        "\n",
        "close_px = df['Adj Close']\n",
        "mavg = close_px.rolling(window=100).mean()\n",
        "mavg.head()"
      ],
      "execution_count": 0,
      "outputs": [
        {
          "output_type": "execute_result",
          "data": {
            "text/html": [
              "<div>\n",
              "<style scoped>\n",
              "    .dataframe tbody tr th:only-of-type {\n",
              "        vertical-align: middle;\n",
              "    }\n",
              "\n",
              "    .dataframe tbody tr th {\n",
              "        vertical-align: top;\n",
              "    }\n",
              "\n",
              "    .dataframe thead th {\n",
              "        text-align: right;\n",
              "    }\n",
              "</style>\n",
              "<table border=\"1\" class=\"dataframe\">\n",
              "  <thead>\n",
              "    <tr style=\"text-align: right;\">\n",
              "      <th>Symbols</th>\n",
              "      <th>IBIO</th>\n",
              "    </tr>\n",
              "    <tr>\n",
              "      <th>Date</th>\n",
              "      <th></th>\n",
              "    </tr>\n",
              "  </thead>\n",
              "  <tbody>\n",
              "    <tr>\n",
              "      <th>2018-01-02</th>\n",
              "      <td>NaN</td>\n",
              "    </tr>\n",
              "    <tr>\n",
              "      <th>2018-01-03</th>\n",
              "      <td>NaN</td>\n",
              "    </tr>\n",
              "    <tr>\n",
              "      <th>2018-01-04</th>\n",
              "      <td>NaN</td>\n",
              "    </tr>\n",
              "    <tr>\n",
              "      <th>2018-01-05</th>\n",
              "      <td>NaN</td>\n",
              "    </tr>\n",
              "    <tr>\n",
              "      <th>2018-01-08</th>\n",
              "      <td>NaN</td>\n",
              "    </tr>\n",
              "  </tbody>\n",
              "</table>\n",
              "</div>"
            ],
            "text/plain": [
              "Symbols     IBIO\n",
              "Date            \n",
              "2018-01-02   NaN\n",
              "2018-01-03   NaN\n",
              "2018-01-04   NaN\n",
              "2018-01-05   NaN\n",
              "2018-01-08   NaN"
            ]
          },
          "metadata": {
            "tags": []
          },
          "execution_count": 91
        }
      ]
    },
    {
      "cell_type": "code",
      "metadata": {
        "id": "asDBAftBmNm_",
        "colab_type": "code",
        "outputId": "93ea7825-5211-4d57-bdc9-a08f8088be7a",
        "colab": {}
      },
      "source": [
        "#########################\n",
        "# join DF's \n",
        "#########################\n",
        "\n",
        "dfMerge = df.merge(calPerChange, left_on = 'Date', right_on = 'Date')\n",
        "# list(dfMerge.columns)\n",
        "dfMerge.tail()"
      ],
      "execution_count": 0,
      "outputs": [
        {
          "output_type": "execute_result",
          "data": {
            "text/html": [
              "<div>\n",
              "<style scoped>\n",
              "    .dataframe tbody tr th:only-of-type {\n",
              "        vertical-align: middle;\n",
              "    }\n",
              "\n",
              "    .dataframe tbody tr th {\n",
              "        vertical-align: top;\n",
              "    }\n",
              "\n",
              "    .dataframe thead th {\n",
              "        text-align: right;\n",
              "    }\n",
              "</style>\n",
              "<table border=\"1\" class=\"dataframe\">\n",
              "  <thead>\n",
              "    <tr style=\"text-align: right;\">\n",
              "      <th></th>\n",
              "      <th>(Adj Close, IBIO)</th>\n",
              "      <th>(Close, IBIO)</th>\n",
              "      <th>(High, IBIO)</th>\n",
              "      <th>(Low, IBIO)</th>\n",
              "      <th>(Open, IBIO)</th>\n",
              "      <th>(Volume, IBIO)</th>\n",
              "      <th>PerChange</th>\n",
              "    </tr>\n",
              "    <tr>\n",
              "      <th>Date</th>\n",
              "      <th></th>\n",
              "      <th></th>\n",
              "      <th></th>\n",
              "      <th></th>\n",
              "      <th></th>\n",
              "      <th></th>\n",
              "      <th></th>\n",
              "    </tr>\n",
              "  </thead>\n",
              "  <tbody>\n",
              "    <tr>\n",
              "      <th>2019-12-23</th>\n",
              "      <td>0.250</td>\n",
              "      <td>0.250</td>\n",
              "      <td>0.2700</td>\n",
              "      <td>0.2300</td>\n",
              "      <td>0.25</td>\n",
              "      <td>6314800.0</td>\n",
              "      <td>0.000000</td>\n",
              "    </tr>\n",
              "    <tr>\n",
              "      <th>2019-12-24</th>\n",
              "      <td>0.240</td>\n",
              "      <td>0.240</td>\n",
              "      <td>0.2500</td>\n",
              "      <td>0.2300</td>\n",
              "      <td>0.25</td>\n",
              "      <td>1628200.0</td>\n",
              "      <td>-0.040000</td>\n",
              "    </tr>\n",
              "    <tr>\n",
              "      <th>2019-12-26</th>\n",
              "      <td>0.230</td>\n",
              "      <td>0.230</td>\n",
              "      <td>0.2400</td>\n",
              "      <td>0.2200</td>\n",
              "      <td>0.23</td>\n",
              "      <td>2195500.0</td>\n",
              "      <td>0.000000</td>\n",
              "    </tr>\n",
              "    <tr>\n",
              "      <th>2019-12-27</th>\n",
              "      <td>0.230</td>\n",
              "      <td>0.230</td>\n",
              "      <td>0.2400</td>\n",
              "      <td>0.2200</td>\n",
              "      <td>0.23</td>\n",
              "      <td>2795500.0</td>\n",
              "      <td>0.000000</td>\n",
              "    </tr>\n",
              "    <tr>\n",
              "      <th>2019-12-30</th>\n",
              "      <td>0.253</td>\n",
              "      <td>0.253</td>\n",
              "      <td>0.2625</td>\n",
              "      <td>0.2301</td>\n",
              "      <td>0.24</td>\n",
              "      <td>5165363.0</td>\n",
              "      <td>0.054167</td>\n",
              "    </tr>\n",
              "  </tbody>\n",
              "</table>\n",
              "</div>"
            ],
            "text/plain": [
              "            (Adj Close, IBIO)  (Close, IBIO)  (High, IBIO)  (Low, IBIO)  \\\n",
              "Date                                                                      \n",
              "2019-12-23              0.250          0.250        0.2700       0.2300   \n",
              "2019-12-24              0.240          0.240        0.2500       0.2300   \n",
              "2019-12-26              0.230          0.230        0.2400       0.2200   \n",
              "2019-12-27              0.230          0.230        0.2400       0.2200   \n",
              "2019-12-30              0.253          0.253        0.2625       0.2301   \n",
              "\n",
              "            (Open, IBIO)  (Volume, IBIO)  PerChange  \n",
              "Date                                                 \n",
              "2019-12-23          0.25       6314800.0   0.000000  \n",
              "2019-12-24          0.25       1628200.0  -0.040000  \n",
              "2019-12-26          0.23       2195500.0   0.000000  \n",
              "2019-12-27          0.23       2795500.0   0.000000  \n",
              "2019-12-30          0.24       5165363.0   0.054167  "
            ]
          },
          "metadata": {
            "tags": []
          },
          "execution_count": 96
        }
      ]
    },
    {
      "cell_type": "code",
      "metadata": {
        "id": "1nITxLRLmNnC",
        "colab_type": "code",
        "outputId": "7f141134-afd5-42a6-a7c8-d7a57f5d3827",
        "colab": {}
      },
      "source": [
        "#########################\n",
        "# create Chart\n",
        "# with Chart formatting\n",
        "#########################\n",
        "\n",
        "%matplotlib inline\n",
        "import matplotlib.pyplot as plt\n",
        "from matplotlib import style\n",
        "\n",
        "# Adjusting the size of matplotlib\n",
        "import matplotlib as mpl\n",
        "mpl.rc('figure', figsize=(8, 7))\n",
        "mpl.__version__\n",
        "\n",
        "# Adjusting the style of matplotlib\n",
        "style.use('ggplot')\n",
        "\n",
        "# close_px.plot(label='AGRX')\n",
        "# mavg.plot(label='Adj Close')\n",
        "# plt.legend()\n",
        "\n",
        "dfMerge.PerChange.plot()"
      ],
      "execution_count": 0,
      "outputs": [
        {
          "output_type": "execute_result",
          "data": {
            "text/plain": [
              "<matplotlib.axes._subplots.AxesSubplot at 0x1ebdd2e89b0>"
            ]
          },
          "metadata": {
            "tags": []
          },
          "execution_count": 84
        },
        {
          "output_type": "display_data",
          "data": {
            "image/png": "[encoded data removed]",
            "text/plain": [
              "<Figure size 576x504 with 1 Axes>"
            ]
          },
          "metadata": {
            "tags": []
          }
        }
      ]
    },
    {
      "cell_type": "code",
      "metadata": {
        "id": "5T81KDo2mNnF",
        "colab_type": "code",
        "outputId": "11e3ad6e-8d6d-45eb-daf8-040099eaaaa0",
        "colab": {}
      },
      "source": [
        "dfMerge.tail()"
      ],
      "execution_count": 0,
      "outputs": [
        {
          "output_type": "execute_result",
          "data": {
            "text/html": [
              "<div>\n",
              "<style scoped>\n",
              "    .dataframe tbody tr th:only-of-type {\n",
              "        vertical-align: middle;\n",
              "    }\n",
              "\n",
              "    .dataframe tbody tr th {\n",
              "        vertical-align: top;\n",
              "    }\n",
              "\n",
              "    .dataframe thead th {\n",
              "        text-align: right;\n",
              "    }\n",
              "</style>\n",
              "<table border=\"1\" class=\"dataframe\">\n",
              "  <thead>\n",
              "    <tr style=\"text-align: right;\">\n",
              "      <th></th>\n",
              "      <th>(Adj Close, SRRA)</th>\n",
              "      <th>(Close, SRRA)</th>\n",
              "      <th>(High, SRRA)</th>\n",
              "      <th>(Low, SRRA)</th>\n",
              "      <th>(Open, SRRA)</th>\n",
              "      <th>(Volume, SRRA)</th>\n",
              "      <th>PerChange</th>\n",
              "    </tr>\n",
              "    <tr>\n",
              "      <th>Date</th>\n",
              "      <th></th>\n",
              "      <th></th>\n",
              "      <th></th>\n",
              "      <th></th>\n",
              "      <th></th>\n",
              "      <th></th>\n",
              "      <th></th>\n",
              "    </tr>\n",
              "  </thead>\n",
              "  <tbody>\n",
              "    <tr>\n",
              "      <th>2019-12-23</th>\n",
              "      <td>0.3380</td>\n",
              "      <td>0.3380</td>\n",
              "      <td>0.347</td>\n",
              "      <td>0.3210</td>\n",
              "      <td>0.347</td>\n",
              "      <td>1525800</td>\n",
              "      <td>-0.025937</td>\n",
              "    </tr>\n",
              "    <tr>\n",
              "      <th>2019-12-24</th>\n",
              "      <td>0.3420</td>\n",
              "      <td>0.3420</td>\n",
              "      <td>0.344</td>\n",
              "      <td>0.3210</td>\n",
              "      <td>0.330</td>\n",
              "      <td>1177000</td>\n",
              "      <td>0.036364</td>\n",
              "    </tr>\n",
              "    <tr>\n",
              "      <th>2019-12-26</th>\n",
              "      <td>0.3400</td>\n",
              "      <td>0.3400</td>\n",
              "      <td>0.344</td>\n",
              "      <td>0.3300</td>\n",
              "      <td>0.342</td>\n",
              "      <td>1040700</td>\n",
              "      <td>-0.005848</td>\n",
              "    </tr>\n",
              "    <tr>\n",
              "      <th>2019-12-27</th>\n",
              "      <td>0.3400</td>\n",
              "      <td>0.3400</td>\n",
              "      <td>0.345</td>\n",
              "      <td>0.3310</td>\n",
              "      <td>0.337</td>\n",
              "      <td>1350000</td>\n",
              "      <td>0.008902</td>\n",
              "    </tr>\n",
              "    <tr>\n",
              "      <th>2019-12-30</th>\n",
              "      <td>0.3388</td>\n",
              "      <td>0.3388</td>\n",
              "      <td>0.340</td>\n",
              "      <td>0.3253</td>\n",
              "      <td>0.340</td>\n",
              "      <td>1126159</td>\n",
              "      <td>-0.003529</td>\n",
              "    </tr>\n",
              "  </tbody>\n",
              "</table>\n",
              "</div>"
            ],
            "text/plain": [
              "            (Adj Close, SRRA)  (Close, SRRA)  (High, SRRA)  (Low, SRRA)  \\\n",
              "Date                                                                      \n",
              "2019-12-23             0.3380         0.3380         0.347       0.3210   \n",
              "2019-12-24             0.3420         0.3420         0.344       0.3210   \n",
              "2019-12-26             0.3400         0.3400         0.344       0.3300   \n",
              "2019-12-27             0.3400         0.3400         0.345       0.3310   \n",
              "2019-12-30             0.3388         0.3388         0.340       0.3253   \n",
              "\n",
              "            (Open, SRRA)  (Volume, SRRA)  PerChange  \n",
              "Date                                                 \n",
              "2019-12-23         0.347         1525800  -0.025937  \n",
              "2019-12-24         0.330         1177000   0.036364  \n",
              "2019-12-26         0.342         1040700  -0.005848  \n",
              "2019-12-27         0.337         1350000   0.008902  \n",
              "2019-12-30         0.340         1126159  -0.003529  "
            ]
          },
          "metadata": {
            "tags": []
          },
          "execution_count": 87
        }
      ]
    }
  ]
}